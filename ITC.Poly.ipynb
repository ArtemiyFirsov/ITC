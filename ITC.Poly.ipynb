{
 "cells": [
  {
   "cell_type": "code",
   "execution_count": 237,
   "metadata": {},
   "outputs": [],
   "source": [
    "import numpy as np\n",
    "import math\n",
    "import itertools\n",
    "\n",
    "class Poly:        \n",
    "    def __init__(self, order=None, coeffs=None, notation=2):        \n",
    "        if coeffs is None:\n",
    "            self.coeffs = np.zeros(order + 1)\n",
    "            self.coeffs[order] = 1\n",
    "        else:\n",
    "            self.coeffs = coeffs\n",
    "            \n",
    "        #self.coeffs = self.coeffs[:self.get_order()+1]\n",
    "        self.notation = notation\n",
    "    \n",
    "    def add(self, poly):   \n",
    "        if type(poly) is int:\n",
    "            poly = Poly(poly)\n",
    "            \n",
    "        coeffs = poly.coeffs.copy()\n",
    "        \n",
    "        if any([i > self.notation - 1 for i in coeffs]):\n",
    "            raise Exception(\"Be consistent with notation of poly\")\n",
    "        \n",
    "        a, b = [], []\n",
    "        if len(self.coeffs) < len(coeffs):\n",
    "            a = coeffs\n",
    "            b = self.coeffs\n",
    "        else:\n",
    "            a = self.coeffs\n",
    "            b = coeffs\n",
    "            \n",
    "        c = np.array(a.copy()).astype(int)\n",
    "        c[:len(b)] += np.array(b).astype(int)\n",
    "        \n",
    "        \n",
    "        return Poly(coeffs=[i%self.notation for i in c])\n",
    "        \n",
    "    def multiply_int(self, number):\n",
    "        return Poly(coeffs=np.hstack((np.zeros(number),self.coeffs)))\n",
    "      \n",
    "    def multiply(self, poly):\n",
    "        if type(poly) is int:\n",
    "            poly = Poly(poly)\n",
    "        \n",
    "        p1 = np.poly1d(list(reversed(self.coeffs)))\n",
    "        p2 = np.poly1d(list(reversed(poly.coeffs)))\n",
    "        \n",
    "        return Poly(coeffs=list(reversed([i%self.notation for i in np.polymul(p1, p2)])))\n",
    "    \n",
    "    def get_order(self):\n",
    "        arr = [i for i,v in enumerate(self.coeffs) if v == 1]\n",
    "        if len(arr) == 0:\n",
    "            return 0\n",
    "        return max(arr)\n",
    "        \n",
    "        \n",
    "    def divide(self, divider):\n",
    "        if type(divider) is int:\n",
    "            divider = Poly(divider)\n",
    "            \n",
    "        dividend_order = self.get_order()\n",
    "        divider_order = divider.get_order()\n",
    "        \n",
    "        dividend = self.coeffs.copy()\n",
    "        divider = divider.coeffs.copy()\n",
    "        divider_len = len(divider)\n",
    "        \n",
    "        \n",
    "        if divider_order > dividend_order:\n",
    "            return 0, Poly(coeffs=self.coeffs.copy())\n",
    "        elif dividend_order == divider_order:\n",
    "            return 0, 0\n",
    "        else:\n",
    "            remainder = []\n",
    "            result = []\n",
    "            while True:\n",
    "                diff = dividend_order - divider_order\n",
    "                \n",
    "                #print(diff)\n",
    "                suffix = np.zeros(len(dividend) - divider_len - diff) if len(dividend) - divider_len - diff > 0 else []\n",
    "                subtract = np.hstack((np.zeros(diff), divider, suffix))\n",
    "                \n",
    "                #print(dividend)\n",
    "                #print(subtract.tolist())\n",
    "                remainder.append(diff)\n",
    "                \n",
    "                rest = abs(dividend - subtract)\n",
    "                rest = [i%self.notation for i in rest]\n",
    "                #print(rest)\n",
    "                \n",
    "                if any([i != 0 for i in rest]):\n",
    "                    if max([i for i,v in enumerate(rest) if v != 0]) >= divider_order :\n",
    "                        dividend = rest.copy()\n",
    "                        dividend_order = max([i for i,v in enumerate(dividend) if v != 0])\n",
    "\n",
    "                        continue\n",
    "                \n",
    "                break\n",
    "                \n",
    "            result_coeffs = [1 if i in remainder else 0 for i in range(max(remainder)+1)]\n",
    "            \n",
    "            return Poly(coeffs=result_coeffs), Poly(coeffs=rest) if any([i!=0 for i in rest]) else 0\n",
    "                \n",
    "                \n",
    "        \n",
    "    def show(self):\n",
    "        print(\" + \".join([\"x^\" + str(int(i)) for i,v in enumerate(self.coeffs) if v == 1]), \n",
    "              str(self.notation) + \" notation\")\n",
    "        \n",
    "def generate_generator(k):\n",
    "    for n in range(k + 5, k + 15):\n",
    "        main = Poly(n).add(0)\n",
    "        for w in range(1, n-k + 2):\n",
    "            indices = range(0, n-k + 1)\n",
    "            arrs = list(itertools.combinations(indices, w))\n",
    "            for arr in arrs:\n",
    "                if len(arr) == 1 and arr[0] == 0:\n",
    "                    continue\n",
    "                generator = np.zeros(n-k+1)\n",
    "                generator[list(arr)] = 1\n",
    "                generator = Poly(coeffs=generator)\n",
    "\n",
    "                gen_order = generator.get_order()    \n",
    "                \n",
    "                if gen_order != n-k:\n",
    "                    continue\n",
    "                    \n",
    "\n",
    "                c, r = main.divide(generator) \n",
    "\n",
    "                if r != 0 or c == 0:\n",
    "                    continue\n",
    "\n",
    "                c_order = c.get_order()\n",
    "                mat = np.zeros(shape=(n-k,n))\n",
    "                c = c.add(k).add(k)\n",
    "                \n",
    "                for i in range(n-k):\n",
    "                    mat[i, n-c_order-i-1:n-i] = list(reversed(c.coeffs))\n",
    "\n",
    "                bad = False\n",
    "                for i in range(n):\n",
    "                    item = mat[:, i]\n",
    "                    for j in range(n):\n",
    "                        if i == j:\n",
    "                            continue\n",
    "                        column = mat[:, j]\n",
    "\n",
    "                        if np.array_equal(item, column):\n",
    "                            bad = True\n",
    "                if bad:\n",
    "                    continue\n",
    "\n",
    "                return generator, mat, n"
   ]
  },
  {
   "cell_type": "code",
   "execution_count": 252,
   "metadata": {},
   "outputs": [
    {
     "name": "stdout",
     "output_type": "stream",
     "text": [
      "Word to encode: 1011\n"
     ]
    }
   ],
   "source": [
    "string = input(\"Word to encode: \")\n",
    "k = len(string)\n",
    "code = [int(i) for i in string]"
   ]
  },
  {
   "cell_type": "code",
   "execution_count": 253,
   "metadata": {},
   "outputs": [
    {
     "name": "stdout",
     "output_type": "stream",
     "text": [
      "x^0 + x^1 + x^5 + x^6 2 notation\n",
      "[[ 0.  0.  0.  0.  0.  1.  1.  1.  1.  1.]\n",
      " [ 0.  0.  0.  0.  1.  1.  1.  1.  1.  0.]\n",
      " [ 0.  0.  0.  1.  1.  1.  1.  1.  0.  0.]\n",
      " [ 0.  0.  1.  1.  1.  1.  1.  0.  0.  0.]\n",
      " [ 0.  1.  1.  1.  1.  1.  0.  0.  0.  0.]\n",
      " [ 1.  1.  1.  1.  1.  0.  0.  0.  0.  0.]] 10\n"
     ]
    }
   ],
   "source": [
    "gen, mat, n = generate_generator(k)\n",
    "gen.show()\n",
    "\n",
    "print(mat, n)"
   ]
  },
  {
   "cell_type": "code",
   "execution_count": 254,
   "metadata": {},
   "outputs": [
    {
     "name": "stdout",
     "output_type": "stream",
     "text": [
      "x^0 + x^2 + x^3 2 notation\n"
     ]
    }
   ],
   "source": [
    "code_poly = Poly(coeffs=code)\n",
    "code_poly.show()"
   ]
  },
  {
   "cell_type": "code",
   "execution_count": 255,
   "metadata": {},
   "outputs": [
    {
     "name": "stdout",
     "output_type": "stream",
     "text": [
      "x^6 + x^8 + x^9 2 notation\n"
     ]
    }
   ],
   "source": [
    "shifted = code_poly.multiply(n-k)\n",
    "shifted.show()\n",
    "shifted.coeffs = list(np.hstack((shifted.coeffs, np.zeros(n - len(shifted.coeffs)))))"
   ]
  },
  {
   "cell_type": "code",
   "execution_count": 256,
   "metadata": {},
   "outputs": [
    {
     "name": "stdout",
     "output_type": "stream",
     "text": [
      "x^0 + x^3 2 notation\n",
      "x^0 + x^1 + x^3 + x^4 + x^5 2 notation\n",
      "x^6 + x^8 + x^9 2 notation\n"
     ]
    }
   ],
   "source": [
    "r, c = shifted.divide(gen)\n",
    "r.show()\n",
    "c.show()\n",
    "r.multiply(gen).add(c).show()"
   ]
  },
  {
   "cell_type": "code",
   "execution_count": 257,
   "metadata": {},
   "outputs": [
    {
     "name": "stdout",
     "output_type": "stream",
     "text": [
      "x^0 + x^1 + x^3 + x^4 + x^5 + x^6 + x^8 + x^9 2 notation\n",
      "x^0 + x^3 + x^4 + x^5 + x^6 + x^8 + x^9 2 notation\n"
     ]
    }
   ],
   "source": [
    "encoded = shifted.add(c)\n",
    "encoded.show()\n",
    "encoded = encoded.add(1)\n",
    "encoded.show()"
   ]
  },
  {
   "cell_type": "code",
   "execution_count": 258,
   "metadata": {
    "scrolled": true
   },
   "outputs": [
    {
     "name": "stdout",
     "output_type": "stream",
     "text": [
      "(0,)\n",
      "(1,)\n",
      "[1, 0, 1, 1]\n"
     ]
    }
   ],
   "source": [
    "dd, dr = encoded.divide(gen)\n",
    "encoded_fixed = None\n",
    "\n",
    "if dr == 0:\n",
    "    print(\"RESULT!!!\")\n",
    "    encoded_fixed = encoded\n",
    "else:\n",
    "    indices = range(0, n)\n",
    "    for w in range(1, n+1):\n",
    "        if encoded_fixed:\n",
    "            break\n",
    "        arrs = list(itertools.combinations(indices, w))\n",
    "        for err in arrs:\n",
    "            print(err)\n",
    "            coeffs = np.zeros(n)\n",
    "            coeffs[list(err)] = 1\n",
    "            err_poly = Poly(coeffs=coeffs)\n",
    "            \n",
    "            _, mod = err_poly.divide(gen)\n",
    "            if mod == 0:\n",
    "                continue\n",
    "                \n",
    "            if all([i == 0 for i in mod.add(dr).coeffs]):\n",
    "                encoded_fixed = encoded.add(err_poly)\n",
    "                break\n",
    "\n",
    "\n",
    "print(encoded_fixed.coeffs[n-k:])"
   ]
  },
  {
   "cell_type": "code",
   "execution_count": null,
   "metadata": {},
   "outputs": [],
   "source": []
  },
  {
   "cell_type": "code",
   "execution_count": null,
   "metadata": {},
   "outputs": [],
   "source": []
  }
 ],
 "metadata": {
  "kernelspec": {
   "display_name": "Python 3",
   "language": "python",
   "name": "python3"
  },
  "language_info": {
   "codemirror_mode": {
    "name": "ipython",
    "version": 3
   },
   "file_extension": ".py",
   "mimetype": "text/x-python",
   "name": "python",
   "nbconvert_exporter": "python",
   "pygments_lexer": "ipython3",
   "version": "3.5.2"
  }
 },
 "nbformat": 4,
 "nbformat_minor": 2
}
